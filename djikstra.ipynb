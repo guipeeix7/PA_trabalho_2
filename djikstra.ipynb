{
 "cells": [
  {
   "cell_type": "code",
   "execution_count": 12,
   "metadata": {},
   "outputs": [
    {
     "name": "stdout",
     "output_type": "stream",
     "text": [
      "A distância mais curta do estado Alabama da cidade Abbeville city para estado Alabama da cidade Homewood city é 224.91 km\n"
     ]
    }
   ],
   "source": [
    "import heapq\n",
    "import csv\n",
    "\n",
    "file = './dataset/edge.csv' \n",
    "def dijkstra(graph, start, end):\n",
    "    distances = {vertex: float('infinity') for vertex in graph}\n",
    "    distances[start] = 0\n",
    "    \n",
    "    priority_queue = [(0, start)]\n",
    "    \n",
    "    while priority_queue:\n",
    "        current_distance, current_vertex = heapq.heappop(priority_queue)\n",
    "        \n",
    "        if current_distance > distances[current_vertex]:\n",
    "            continue\n",
    "\n",
    "        if current_vertex == end:\n",
    "            break\n",
    "        \n",
    "        for neighbor, weight in graph[current_vertex].items():\n",
    "            distance = current_distance + weight\n",
    "            \n",
    "            if distance < distances[neighbor]:\n",
    "                distances[neighbor] = distance\n",
    "                heapq.heappush(priority_queue, (distance, neighbor))\n",
    "    \n",
    "    return distances[end]\n",
    "\n",
    "def convertCsvToNodes():\n",
    "    graph = {}\n",
    "    with open(file, newline='') as csvfile:\n",
    "        reader = csv.DictReader(csvfile)\n",
    "        \n",
    "        for row in reader:\n",
    "            place1 = row[\"place1\"]\n",
    "            mi_to_place = float(row[\"mi_to_place\"])*1.609\n",
    "            place2 = row[\"place2\"]\n",
    "            \n",
    "            if place1 not in graph:\n",
    "                graph[place1] = {}\n",
    "            if place2 not in graph:\n",
    "                graph[place2] = {}\n",
    "            \n",
    "            graph[place1][place2] = float(mi_to_place)\n",
    "            graph[place2][place1] = float(mi_to_place)\n",
    "    return graph\n",
    "\n",
    "def findRowNames(start,end):\n",
    "    ct = 0\n",
    "    startNodeData = []\n",
    "    endNodeData = []\n",
    "    with open('./dataset/identifiers.csv', newline='') as csvfile:\n",
    "        reader = csv.DictReader(csvfile)\n",
    "        for row in reader:\n",
    "            if row['place'] == start:\n",
    "                startNodeData = row\n",
    "            if row['place'] == end:\n",
    "                endNodeData = row\n",
    "            if(len(startNodeData) > 0 and len(endNodeData) > 0):\n",
    "                break\n",
    "\n",
    "\n",
    "    return startNodeData, endNodeData\n",
    "\n",
    "graph = convertCsvToNodes()\n",
    "\n",
    "start = '00124'\n",
    "end = '35800'\n",
    "shortest_distance = dijkstra(graph, start, end)\n",
    "\n",
    "placeStart , placeEnd = findRowNames(start, end)\n",
    "\n",
    "if shortest_distance == float('infinity'):\n",
    "    print(f\"Não há caminho de {start} para {end}\")\n",
    "else:\n",
    "    print(f\"A distância mais curta do estado {placeStart['statename']} da cidade {placeStart['placename']} para estado {placeEnd['statename']} da cidade {placeEnd['placename']} é {round(shortest_distance, 2) } km\")"
   ]
  },
  {
   "cell_type": "code",
   "execution_count": null,
   "metadata": {},
   "outputs": [],
   "source": []
  },
  {
   "cell_type": "code",
   "execution_count": null,
   "metadata": {},
   "outputs": [],
   "source": []
  }
 ],
 "metadata": {
  "kernelspec": {
   "display_name": "Python 3",
   "language": "python",
   "name": "python3"
  },
  "language_info": {
   "codemirror_mode": {
    "name": "ipython",
    "version": 3
   },
   "file_extension": ".py",
   "mimetype": "text/x-python",
   "name": "python",
   "nbconvert_exporter": "python",
   "pygments_lexer": "ipython3",
   "version": "3.9.13"
  }
 },
 "nbformat": 4,
 "nbformat_minor": 2
}
